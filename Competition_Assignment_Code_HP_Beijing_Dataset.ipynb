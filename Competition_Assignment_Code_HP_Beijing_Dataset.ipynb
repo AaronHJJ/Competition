{
 "cells": [
  {
   "cell_type": "markdown",
   "source": [
    "## Sample code for Dataset on 10 HP printers usages from one customer in Beijing, China"
   ],
   "metadata": {
    "collapsed": false
   }
  },
  {
   "cell_type": "code",
   "source": [
    "\"\"\"\n",
    "#########################################################################################\n",
    "#-> Notes:\n",
    "#   1) Directly Run \"Part 1 Function Loading\"\n",
    "#   2) In Part 2, set the directory of input files for \"path_Train\" and \"path_Test\".\n",
    "#      And enjoy your journey implementing any prediction method.\n",
    "#########################################################################################\n",
    "\"\"\""
   ],
   "metadata": {
    "collapsed": false,
    "pycharm": {
     "name": "#%%\n"
    }
   },
   "execution_count": null,
   "outputs": []
  },
  {
   "cell_type": "code",
   "execution_count": 1,
   "outputs": [],
   "source": [
    "\n",
    "import pandas as pd\n",
    "import datetime\n",
    "import numpy as np"
   ],
   "metadata": {
    "collapsed": false,
    "pycharm": {
     "name": "#%%\n"
    }
   }
  },
  {
   "cell_type": "code",
   "execution_count": 2,
   "outputs": [],
   "source": [
    "\"\"\"\n",
    "    Part 1:::Function Loading\n",
    "\"\"\"\n",
    "\n",
    "#==========================================\n",
    "#-> Function transform()\n",
    "#==========================================\n",
    "def transform(path):\n",
    "\n",
    "    df = pd.read_csv(  open( path , 'rb') , low_memory = False )\n",
    "\n",
    "    printerIdx = np.array(df['printerIndex'])\n",
    "    usage = np.array(df['usage'])\n",
    "    date = np.array(df['date'])\n",
    "\n",
    "    numofkinds = len(np.unique(printerIdx))\n",
    "    numofday = len(np.unique(date))\n",
    "\n",
    "    date = np.unique(date)\n",
    "    usage = np.reshape(usage, [numofkinds, numofday])\n",
    "\n",
    "    df_output = pd.DataFrame(usage)\n",
    "    df_output.columns = date\n",
    "\n",
    "    return df_output\n",
    "#==========================================\n",
    "#-> Function DataLoading()\n",
    "#==========================================\n",
    "def DataLoading(path):\n",
    "    Dataset = transform(path)\n",
    "\n",
    "    TOTALDAYNUM = Dataset.shape[1]\n",
    "    TOTALDEVICENUM = Dataset.shape[0]\n",
    "\n",
    "    for colIdx in range( TOTALDAYNUM ):\n",
    "        tmpDate  = datetime.datetime.strptime( Dataset.columns[ colIdx ], '%Y-%m-%d %H:%M:%S.%f')\n",
    "        Dataset.rename(columns = {Dataset.columns[ colIdx ]:tmpDate}, inplace = True)\n",
    "\n",
    "    Dataset = Dataset.transpose()\n",
    "\n",
    "    Dataset.index.name = 'Datetime'\n",
    "    Dataset.reset_index(inplace=True)\n",
    "\n",
    "    for colIdx in range( TOTALDEVICENUM ):\n",
    "        tmpColName  = 'PrinterIdx' + str( Dataset.columns[ colIdx+1 ]  )\n",
    "        Dataset.rename(columns = {Dataset.columns[ colIdx + 1 ]:tmpColName}, inplace = True)\n",
    "    date = Dataset.iloc[:,0].values\n",
    "    return Dataset, date\n"
   ],
   "metadata": {
    "collapsed": false,
    "pycharm": {
     "name": "#%%\n"
    }
   }
  },
  {
   "cell_type": "code",
   "execution_count": 3,
   "outputs": [
    {
     "data": {
      "text/plain": "'\\n    Part 2:::Data Input and Prediction\\n'"
     },
     "execution_count": 3,
     "metadata": {},
     "output_type": "execute_result"
    }
   ],
   "source": [
    "\"\"\"\n",
    "    Part 2:::Data Input and Prediction\n",
    "\"\"\"\n"
   ],
   "metadata": {
    "collapsed": false,
    "pycharm": {
     "name": "#%%\n"
    }
   }
  },
  {
   "cell_type": "code",
   "execution_count": 4,
   "outputs": [],
   "source": [
    "\"\"\"\n",
    "    Model_Beijing_Assignment.csv\n",
    "    Notes:\n",
    "    -> Model_Beijing _Assignment.csv contains table for these 10 printer usages to\n",
    "        train and evaluate your method spanning from 2015/11/1 to 2018/7/20 (in total 993 days).\n",
    "\"\"\"\n",
    "path_Train = \"D:/Model_Beijing_Assignment.csv\"\n",
    "df_Train, Train_date = DataLoading(path_Train)"
   ],
   "metadata": {
    "collapsed": false,
    "pycharm": {
     "name": "#%%\n"
    }
   }
  },
  {
   "cell_type": "code",
   "execution_count": 5,
   "outputs": [
    {
     "data": {
      "text/plain": "      Datetime  PrinterIdx0  PrinterIdx1  PrinterIdx2  PrinterIdx3  \\\n0   2015-11-01       1071.0       6053.0       1858.0       1401.0   \n1   2015-11-02        101.0        166.0         89.0         92.0   \n2   2015-11-03         24.0        205.0        103.0        147.0   \n3   2015-11-04         28.0        408.0         65.0         29.0   \n4   2015-11-05         14.0         58.0         32.0         56.0   \n..         ...          ...          ...          ...          ...   \n988 2018-07-16         38.0         78.0         13.0         32.0   \n989 2018-07-17          6.0         33.0        107.0         17.0   \n990 2018-07-18          0.0         71.0        158.0         47.0   \n991 2018-07-19          0.0          0.0        126.0         20.0   \n992 2018-07-20         51.0        194.0        101.0         32.0   \n\n     PrinterIdx4  PrinterIdx5  PrinterIdx6  PrinterIdx7  PrinterIdx8  \\\n0         2314.0        349.0        455.0       2719.0       3671.0   \n1          132.0         64.0         12.0         40.0        294.0   \n2          101.0         14.0        100.0         57.0        158.0   \n3           72.0          5.0         10.0        199.0        298.0   \n4           32.0         11.0         14.0         64.0        117.0   \n..           ...          ...          ...          ...          ...   \n988         28.0          0.0         87.0          1.0         44.0   \n989         41.0          1.0         50.0         39.0        112.0   \n990         38.0          2.0         23.0        187.0        150.0   \n991          0.0          0.0          1.0         25.0          0.0   \n992        105.0         15.0         19.0         50.0        271.0   \n\n     PrinterIdx9  \n0           22.0  \n1            0.0  \n2            0.0  \n3            0.0  \n4            0.0  \n..           ...  \n988          1.0  \n989         10.0  \n990          0.0  \n991          0.0  \n992          3.0  \n\n[993 rows x 11 columns]",
      "text/html": "<div>\n<style scoped>\n    .dataframe tbody tr th:only-of-type {\n        vertical-align: middle;\n    }\n\n    .dataframe tbody tr th {\n        vertical-align: top;\n    }\n\n    .dataframe thead th {\n        text-align: right;\n    }\n</style>\n<table border=\"1\" class=\"dataframe\">\n  <thead>\n    <tr style=\"text-align: right;\">\n      <th></th>\n      <th>Datetime</th>\n      <th>PrinterIdx0</th>\n      <th>PrinterIdx1</th>\n      <th>PrinterIdx2</th>\n      <th>PrinterIdx3</th>\n      <th>PrinterIdx4</th>\n      <th>PrinterIdx5</th>\n      <th>PrinterIdx6</th>\n      <th>PrinterIdx7</th>\n      <th>PrinterIdx8</th>\n      <th>PrinterIdx9</th>\n    </tr>\n  </thead>\n  <tbody>\n    <tr>\n      <th>0</th>\n      <td>2015-11-01</td>\n      <td>1071.0</td>\n      <td>6053.0</td>\n      <td>1858.0</td>\n      <td>1401.0</td>\n      <td>2314.0</td>\n      <td>349.0</td>\n      <td>455.0</td>\n      <td>2719.0</td>\n      <td>3671.0</td>\n      <td>22.0</td>\n    </tr>\n    <tr>\n      <th>1</th>\n      <td>2015-11-02</td>\n      <td>101.0</td>\n      <td>166.0</td>\n      <td>89.0</td>\n      <td>92.0</td>\n      <td>132.0</td>\n      <td>64.0</td>\n      <td>12.0</td>\n      <td>40.0</td>\n      <td>294.0</td>\n      <td>0.0</td>\n    </tr>\n    <tr>\n      <th>2</th>\n      <td>2015-11-03</td>\n      <td>24.0</td>\n      <td>205.0</td>\n      <td>103.0</td>\n      <td>147.0</td>\n      <td>101.0</td>\n      <td>14.0</td>\n      <td>100.0</td>\n      <td>57.0</td>\n      <td>158.0</td>\n      <td>0.0</td>\n    </tr>\n    <tr>\n      <th>3</th>\n      <td>2015-11-04</td>\n      <td>28.0</td>\n      <td>408.0</td>\n      <td>65.0</td>\n      <td>29.0</td>\n      <td>72.0</td>\n      <td>5.0</td>\n      <td>10.0</td>\n      <td>199.0</td>\n      <td>298.0</td>\n      <td>0.0</td>\n    </tr>\n    <tr>\n      <th>4</th>\n      <td>2015-11-05</td>\n      <td>14.0</td>\n      <td>58.0</td>\n      <td>32.0</td>\n      <td>56.0</td>\n      <td>32.0</td>\n      <td>11.0</td>\n      <td>14.0</td>\n      <td>64.0</td>\n      <td>117.0</td>\n      <td>0.0</td>\n    </tr>\n    <tr>\n      <th>...</th>\n      <td>...</td>\n      <td>...</td>\n      <td>...</td>\n      <td>...</td>\n      <td>...</td>\n      <td>...</td>\n      <td>...</td>\n      <td>...</td>\n      <td>...</td>\n      <td>...</td>\n      <td>...</td>\n    </tr>\n    <tr>\n      <th>988</th>\n      <td>2018-07-16</td>\n      <td>38.0</td>\n      <td>78.0</td>\n      <td>13.0</td>\n      <td>32.0</td>\n      <td>28.0</td>\n      <td>0.0</td>\n      <td>87.0</td>\n      <td>1.0</td>\n      <td>44.0</td>\n      <td>1.0</td>\n    </tr>\n    <tr>\n      <th>989</th>\n      <td>2018-07-17</td>\n      <td>6.0</td>\n      <td>33.0</td>\n      <td>107.0</td>\n      <td>17.0</td>\n      <td>41.0</td>\n      <td>1.0</td>\n      <td>50.0</td>\n      <td>39.0</td>\n      <td>112.0</td>\n      <td>10.0</td>\n    </tr>\n    <tr>\n      <th>990</th>\n      <td>2018-07-18</td>\n      <td>0.0</td>\n      <td>71.0</td>\n      <td>158.0</td>\n      <td>47.0</td>\n      <td>38.0</td>\n      <td>2.0</td>\n      <td>23.0</td>\n      <td>187.0</td>\n      <td>150.0</td>\n      <td>0.0</td>\n    </tr>\n    <tr>\n      <th>991</th>\n      <td>2018-07-19</td>\n      <td>0.0</td>\n      <td>0.0</td>\n      <td>126.0</td>\n      <td>20.0</td>\n      <td>0.0</td>\n      <td>0.0</td>\n      <td>1.0</td>\n      <td>25.0</td>\n      <td>0.0</td>\n      <td>0.0</td>\n    </tr>\n    <tr>\n      <th>992</th>\n      <td>2018-07-20</td>\n      <td>51.0</td>\n      <td>194.0</td>\n      <td>101.0</td>\n      <td>32.0</td>\n      <td>105.0</td>\n      <td>15.0</td>\n      <td>19.0</td>\n      <td>50.0</td>\n      <td>271.0</td>\n      <td>3.0</td>\n    </tr>\n  </tbody>\n</table>\n<p>993 rows × 11 columns</p>\n</div>"
     },
     "execution_count": 5,
     "metadata": {},
     "output_type": "execute_result"
    }
   ],
   "source": [
    "df_Train"
   ],
   "metadata": {
    "collapsed": false,
    "pycharm": {
     "name": "#%%\n"
    }
   }
  },
  {
   "cell_type": "code",
   "execution_count": 6,
   "outputs": [],
   "source": [
    "\"\"\"\n",
    "    Predict_Beijing_Assignment.csv\n",
    "    Notes:\n",
    "    -> Predict_Beijing _Assignment.csv contains table for these 10 printer usages to\n",
    "       fill in your prediction value spanning from 2018/7/21 to 2018/10/28 (in total 100 days).\n",
    "\"\"\"\n",
    "\n",
    "path_Test= \"D:/Predict_Beijing_Assignment.csv\"\n",
    "df_Test, Test_date = DataLoading(path_Test)"
   ],
   "metadata": {
    "collapsed": false,
    "pycharm": {
     "name": "#%%\n"
    }
   }
  },
  {
   "cell_type": "code",
   "execution_count": 7,
   "outputs": [
    {
     "data": {
      "text/plain": "     Datetime  PrinterIdx0  PrinterIdx1  PrinterIdx2  PrinterIdx3  \\\n0  2018-07-21          NaN          NaN          NaN          NaN   \n1  2018-07-22          NaN          NaN          NaN          NaN   \n2  2018-07-23          NaN          NaN          NaN          NaN   \n3  2018-07-24          NaN          NaN          NaN          NaN   \n4  2018-07-25          NaN          NaN          NaN          NaN   \n..        ...          ...          ...          ...          ...   \n95 2018-10-24          NaN          NaN          NaN          NaN   \n96 2018-10-25          NaN          NaN          NaN          NaN   \n97 2018-10-26          NaN          NaN          NaN          NaN   \n98 2018-10-27          NaN          NaN          NaN          NaN   \n99 2018-10-28          NaN          NaN          NaN          NaN   \n\n    PrinterIdx4  PrinterIdx5  PrinterIdx6  PrinterIdx7  PrinterIdx8  \\\n0           NaN          NaN          NaN          NaN          NaN   \n1           NaN          NaN          NaN          NaN          NaN   \n2           NaN          NaN          NaN          NaN          NaN   \n3           NaN          NaN          NaN          NaN          NaN   \n4           NaN          NaN          NaN          NaN          NaN   \n..          ...          ...          ...          ...          ...   \n95          NaN          NaN          NaN          NaN          NaN   \n96          NaN          NaN          NaN          NaN          NaN   \n97          NaN          NaN          NaN          NaN          NaN   \n98          NaN          NaN          NaN          NaN          NaN   \n99          NaN          NaN          NaN          NaN          NaN   \n\n    PrinterIdx9  \n0           NaN  \n1           NaN  \n2           NaN  \n3           NaN  \n4           NaN  \n..          ...  \n95          NaN  \n96          NaN  \n97          NaN  \n98          NaN  \n99          NaN  \n\n[100 rows x 11 columns]",
      "text/html": "<div>\n<style scoped>\n    .dataframe tbody tr th:only-of-type {\n        vertical-align: middle;\n    }\n\n    .dataframe tbody tr th {\n        vertical-align: top;\n    }\n\n    .dataframe thead th {\n        text-align: right;\n    }\n</style>\n<table border=\"1\" class=\"dataframe\">\n  <thead>\n    <tr style=\"text-align: right;\">\n      <th></th>\n      <th>Datetime</th>\n      <th>PrinterIdx0</th>\n      <th>PrinterIdx1</th>\n      <th>PrinterIdx2</th>\n      <th>PrinterIdx3</th>\n      <th>PrinterIdx4</th>\n      <th>PrinterIdx5</th>\n      <th>PrinterIdx6</th>\n      <th>PrinterIdx7</th>\n      <th>PrinterIdx8</th>\n      <th>PrinterIdx9</th>\n    </tr>\n  </thead>\n  <tbody>\n    <tr>\n      <th>0</th>\n      <td>2018-07-21</td>\n      <td>NaN</td>\n      <td>NaN</td>\n      <td>NaN</td>\n      <td>NaN</td>\n      <td>NaN</td>\n      <td>NaN</td>\n      <td>NaN</td>\n      <td>NaN</td>\n      <td>NaN</td>\n      <td>NaN</td>\n    </tr>\n    <tr>\n      <th>1</th>\n      <td>2018-07-22</td>\n      <td>NaN</td>\n      <td>NaN</td>\n      <td>NaN</td>\n      <td>NaN</td>\n      <td>NaN</td>\n      <td>NaN</td>\n      <td>NaN</td>\n      <td>NaN</td>\n      <td>NaN</td>\n      <td>NaN</td>\n    </tr>\n    <tr>\n      <th>2</th>\n      <td>2018-07-23</td>\n      <td>NaN</td>\n      <td>NaN</td>\n      <td>NaN</td>\n      <td>NaN</td>\n      <td>NaN</td>\n      <td>NaN</td>\n      <td>NaN</td>\n      <td>NaN</td>\n      <td>NaN</td>\n      <td>NaN</td>\n    </tr>\n    <tr>\n      <th>3</th>\n      <td>2018-07-24</td>\n      <td>NaN</td>\n      <td>NaN</td>\n      <td>NaN</td>\n      <td>NaN</td>\n      <td>NaN</td>\n      <td>NaN</td>\n      <td>NaN</td>\n      <td>NaN</td>\n      <td>NaN</td>\n      <td>NaN</td>\n    </tr>\n    <tr>\n      <th>4</th>\n      <td>2018-07-25</td>\n      <td>NaN</td>\n      <td>NaN</td>\n      <td>NaN</td>\n      <td>NaN</td>\n      <td>NaN</td>\n      <td>NaN</td>\n      <td>NaN</td>\n      <td>NaN</td>\n      <td>NaN</td>\n      <td>NaN</td>\n    </tr>\n    <tr>\n      <th>...</th>\n      <td>...</td>\n      <td>...</td>\n      <td>...</td>\n      <td>...</td>\n      <td>...</td>\n      <td>...</td>\n      <td>...</td>\n      <td>...</td>\n      <td>...</td>\n      <td>...</td>\n      <td>...</td>\n    </tr>\n    <tr>\n      <th>95</th>\n      <td>2018-10-24</td>\n      <td>NaN</td>\n      <td>NaN</td>\n      <td>NaN</td>\n      <td>NaN</td>\n      <td>NaN</td>\n      <td>NaN</td>\n      <td>NaN</td>\n      <td>NaN</td>\n      <td>NaN</td>\n      <td>NaN</td>\n    </tr>\n    <tr>\n      <th>96</th>\n      <td>2018-10-25</td>\n      <td>NaN</td>\n      <td>NaN</td>\n      <td>NaN</td>\n      <td>NaN</td>\n      <td>NaN</td>\n      <td>NaN</td>\n      <td>NaN</td>\n      <td>NaN</td>\n      <td>NaN</td>\n      <td>NaN</td>\n    </tr>\n    <tr>\n      <th>97</th>\n      <td>2018-10-26</td>\n      <td>NaN</td>\n      <td>NaN</td>\n      <td>NaN</td>\n      <td>NaN</td>\n      <td>NaN</td>\n      <td>NaN</td>\n      <td>NaN</td>\n      <td>NaN</td>\n      <td>NaN</td>\n      <td>NaN</td>\n    </tr>\n    <tr>\n      <th>98</th>\n      <td>2018-10-27</td>\n      <td>NaN</td>\n      <td>NaN</td>\n      <td>NaN</td>\n      <td>NaN</td>\n      <td>NaN</td>\n      <td>NaN</td>\n      <td>NaN</td>\n      <td>NaN</td>\n      <td>NaN</td>\n      <td>NaN</td>\n    </tr>\n    <tr>\n      <th>99</th>\n      <td>2018-10-28</td>\n      <td>NaN</td>\n      <td>NaN</td>\n      <td>NaN</td>\n      <td>NaN</td>\n      <td>NaN</td>\n      <td>NaN</td>\n      <td>NaN</td>\n      <td>NaN</td>\n      <td>NaN</td>\n      <td>NaN</td>\n    </tr>\n  </tbody>\n</table>\n<p>100 rows × 11 columns</p>\n</div>"
     },
     "execution_count": 7,
     "metadata": {},
     "output_type": "execute_result"
    }
   ],
   "source": [
    "df_Test"
   ],
   "metadata": {
    "collapsed": false,
    "pycharm": {
     "name": "#%%\n"
    }
   }
  },
  {
   "cell_type": "code",
   "execution_count": null,
   "outputs": [],
   "source": [],
   "metadata": {
    "collapsed": false,
    "pycharm": {
     "name": "#%%\n"
    }
   }
  }
 ],
 "metadata": {
  "kernelspec": {
   "display_name": "Python 3",
   "language": "python",
   "name": "python3"
  },
  "language_info": {
   "codemirror_mode": {
    "name": "ipython",
    "version": 2
   },
   "file_extension": ".py",
   "mimetype": "text/x-python",
   "name": "python",
   "nbconvert_exporter": "python",
   "pygments_lexer": "ipython2",
   "version": "2.7.6"
  }
 },
 "nbformat": 4,
 "nbformat_minor": 0
}